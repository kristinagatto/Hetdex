{
 "cells": [
  {
   "cell_type": "markdown",
   "id": "c3c3d2a8",
   "metadata": {},
   "source": [
    "# Unsupervised Machine Learning on 2D Spectra\n",
    "This notebook shows an unsupervised machine learning approach to understanding 2D spectra. The objective here is not to classify or predict specific outcomes, but to explore patterns, relationships, and structures within the dataset using techniques such as dimensionality reduction and clustering.In the process, this notebook demonstrates the use of Principal Component Analysis (PCA) and t-Distributed Stochastic Neighbor Embedding (t-SNE)."
   ]
  },
  {
   "cell_type": "code",
   "execution_count": 1,
   "id": "c97b793b",
   "metadata": {},
   "outputs": [],
   "source": [
    "import numpy as np\n",
    "import pickle\n",
    "import pandas as pd\n",
    "from tqdm import tqdm, tqdm_notebook\n",
    "import random\n",
    "import time\n",
    "from sklearn.manifold import TSNE\n",
    "from sklearn.decomposition import PCA\n",
    "from sklearn.decomposition import IncrementalPCA\n",
    "import PIL\n",
    "from PIL import Image\n",
    "import re\n",
    "from sklearn.neighbors import NearestNeighbors\n",
    "import glob\n",
    "import matplotlib\n",
    "import matplotlib.pyplot as plt\n",
    "import plotly.io as pio\n",
    "import matplotlib.image as mpimg\n",
    "import io\n",
    "import base64\n",
    "import plotly.graph_objects as go\n",
    "import plotly.offline as pyo\n",
    "import plotly.graph_objs as go\n",
    "import plotly.express as px\n",
    "from IPython.display import display, HTML, clear_output\n",
    "import ipywidgets as widgets\n",
    "from ipywidgets import Output\n",
    "from hetdex_api.elixer_widget_cls import ElixerWidget as EW\n",
    "from IPython.display import Image as IPImage\n",
    "#from tqdm.keras import TqdmCallback\n",
    "import tempfile\n",
    "import os\n",
    "os.environ['TF_CPP_MIN_LOG_LEVEL'] = '3'\n",
    "import warnings\n",
    "#import tensorflow as tf\n",
    "from sklearn.model_selection import train_test_split\n",
    "import pickle\n",
    "from sklearn.metrics import confusion_matrix, precision_score, recall_score, f1_score\n",
    "#from tensorflow.keras.models import load_model\n",
    "import seaborn as sns\n",
    "from sklearn.metrics import ConfusionMatrixDisplay\n",
    "from astropy.visualization import ZScaleInterval\n",
    "import os.path as op\n",
    "from hetdex_api.config import HDRconfig\n",
    "import tables\n",
    "from astropy.table import QTable, Table, Column\n",
    "import dask.array as da\n",
    "from dask.distributed import Client\n",
    "from sklearn.decomposition import IncrementalPCA\n",
    "warnings.filterwarnings(\"ignore\", message=\"Configuration file not found\")"
   ]
  },
  {
   "cell_type": "markdown",
   "id": "be8870bd",
   "metadata": {},
   "source": [
    "## Prepare Data\n",
    "First, we load a machine learning catalog and a source catalog. The source catalog is filtered to select only the detections with certain flags. "
   ]
  },
  {
   "cell_type": "code",
   "execution_count": 114,
   "id": "73b0059a",
   "metadata": {},
   "outputs": [
    {
     "name": "stdout",
     "output_type": "stream",
     "text": [
      "Number of objects: 12189\n"
     ]
    }
   ],
   "source": [
    "version = '3.0.3'\n",
    "config = HDRconfig('hdr3')\n",
    "\n",
    "# Setup the machine learning file \n",
    "mlfile = op.join( config.hdr_dir['hdr3'], 'catalogs','ml','detect_ml_3.0.3.h5')\n",
    "fileh = tables.open_file(mlfile, 'r')\n",
    "\n",
    "# Set the catalog file \n",
    "catfile = op.join(config.hdr_dir['hdr3'], 'catalogs', 'source_catalog_' + version + '.fits')\n",
    "detects_table = Table.read(catfile)\n",
    "\n",
    "# Filter out detections \n",
    "sel = (detects_table['z_hetdex'] > 1.88)\n",
    "sel_f=(detects_table['flag_pixmask']==1)*(detects_table['flag_baddet']==1)*(detects_table['flag_badamp']==1)*(detects_table['flag_badpix']==1)*(detects_table['flag_badfib']==1)*(detects_table['flag_chi2fib']==1)*(detects_table['flag_meteor']==1)*(detects_table['flag_largegal']==1)*(detects_table['flag_seldet']==1)\n",
    "#sel_lw = (detects_table['linewidth'] > 8)\n",
    "#sel_lw = (detects_table['linewidth'] > 6.5) * (detects_table['linewidth'] <= 8) \n",
    "sel_lw=(detects_table['linewidth']>=9) * (detects_table['linewidth']<=12)\n",
    "sel_w=(detects_table['wave']<3550)\n",
    "sel_lum=(detects_table['lum_lya']<3.0e42)*(detects_table['lum_lya']>1e40)\n",
    "#sel3 = (detects_table['sn'] > 7) #* (detects_table['sn'] <= 6.5)\n",
    "sel=sel*sel_f*sel_lw#*sel3\n",
    "\n",
    "detect_list = detects_table['detectid'][sel] \n",
    "print('Number of objects: '+str(len(detect_list)))\n"
   ]
  },
  {
   "cell_type": "markdown",
   "id": "a284b6d9",
   "metadata": {},
   "source": [
    "## Image Processing\n",
    "Then we perform image processing. First, a batch size and the total number of detections are defined. Images are processed in batches. The 'wave' and 'im_sum' values are retrieved, stacked into an array, and normalized. The normalized arrays is then converted to an image and stored in the images list. The process continues until the desired number of images has been processed. Finally, the arrays are flattened and saved into a pickle file along with their filenames. You might notice that there is some redundancy in the loop but this helped me better understand what is happening to the data."
   ]
  },
  {
   "cell_type": "code",
   "execution_count": 115,
   "id": "fbf72eb2",
   "metadata": {},
   "outputs": [
    {
     "name": "stderr",
     "output_type": "stream",
     "text": [
      "Processing detects: 100%|██████████| 12189/12189 [01:23<00:00, 145.36it/s]\n"
     ]
    }
   ],
   "source": [
    "batch_size = 100000\n",
    "total_detects = len(detect_list)\n",
    "\n",
    "# Initialize counter for the images and image containers\n",
    "counter = 0\n",
    "num_images = 100000\n",
    "image_filenames = []\n",
    "images = [] \n",
    "count = 0\n",
    "\n",
    "\n",
    "with open('imfilelist.pkl', 'rb') as f:\n",
    "    imdict = pickle.load(f)\n",
    "    \n",
    "imdict['id']= [str(np.int64(x)) for x in imdict['id']]\n",
    "images += imdict['fib2d']\n",
    "image_filenames += imdict['id']\n",
    "\n",
    "\n",
    "# Loop through the batches of detects\n",
    "for batch_start in range(0, total_detects, batch_size):\n",
    "    batch_detects = detect_list[batch_start:batch_start + batch_size]\n",
    "    \n",
    "    # Loop through detects within the batch\n",
    "    for d in tqdm(batch_detects, desc=\"Processing detects\"):\n",
    "        try:\n",
    "            # Read the object data from the FiberImages table\n",
    "            obj_data = fileh.root.FiberImages.read_where('detectid == d')[0]\n",
    "        except IndexError:\n",
    "            #print(d)\n",
    "            # Skip this iteration if the detectid is not found in the FiberImages table\n",
    "            continue\n",
    "\n",
    "        # Retrieve object data\n",
    "        detectid = obj_data['detectid']\n",
    "        wave = obj_data['im_wave']\n",
    "        im_sum = obj_data['im_sum']\n",
    "        #print(len(im_sum[1]))\n",
    "\n",
    "        # Create an array and normalize it\n",
    "        arr = np.vstack((wave, im_sum)) #########IMPORTANT\n",
    "        arr=arr[1:]\n",
    "        arr = arr - np.min(arr) \n",
    "        arr = arr / np.max(arr)  \n",
    "        arr = arr * 255 \n",
    "        \n",
    "        # Convert the array to an image and store it in the images list\n",
    "        img = Image.fromarray(arr.astype(np.uint8)).convert('L')\n",
    "        img_arr = np.asarray(img)\n",
    "        \n",
    "        # Break the loop if the number of images reached the desired number\n",
    "        if count >= num_images:\n",
    "            break\n",
    "        \n",
    "        # Store the image filename\n",
    "        image_filenames.append(str(detectid) + '.png')\n",
    "\n",
    "        # Add the image to the list\n",
    "        images.append(img_arr)\n",
    "        count += 1\n",
    "\n",
    "    # Break the loop if the number of images reached the desired number\n",
    "    if count >= num_images:\n",
    "        break\n",
    "        \n",
    "# with open('imfilelist.pkl', 'rb') as f:\n",
    "#     detid,ra,dec,wave,shot,fib2d = pickle.load(f)\n",
    "    \n",
    "# with open('imfilelist.pkl', 'rb') as f:\n",
    "#     imdict = pickle.load(f)\n",
    "    \n",
    "# imdict['id']= [str(np.int64(x)) for x in imdict['id']]\n",
    "# images += imdict['fib2d']\n",
    "# image_filenames += imdict['id']\n",
    "        \n",
    "\n",
    "# Normalize the images and flatten them\n",
    "images = np.array(images)\n",
    "images_normalized = images.astype(np.float32) / 255.0\n",
    "flattenend_images = np.array([i.flatten() for i in images_normalized])\n",
    "\n",
    "# Save the flattened images and their filenames into a pickle file\n",
    "#with open('test.pickle', 'wb') as f:\n",
    "#    pickle.dump((flattenend_images, image_filenames), f)\n"
   ]
  },
  {
   "cell_type": "code",
   "execution_count": 116,
   "id": "3d887b94-5efe-4ac4-b386-6b37358fd3f2",
   "metadata": {},
   "outputs": [
    {
     "data": {
      "text/plain": [
       "11847"
      ]
     },
     "execution_count": 116,
     "metadata": {},
     "output_type": "execute_result"
    }
   ],
   "source": [
    "len(image_filenames)"
   ]
  },
  {
   "cell_type": "code",
   "execution_count": 117,
   "id": "01760259-4e4a-43ce-80cd-33312a729aaa",
   "metadata": {},
   "outputs": [
    {
     "data": {
      "text/plain": [
       "100"
      ]
     },
     "execution_count": 117,
     "metadata": {},
     "output_type": "execute_result"
    }
   ],
   "source": [
    "len(imdict['fib2d'][0][7])"
   ]
  },
  {
   "cell_type": "markdown",
   "id": "f37c8b37-c8c2-4464-9c85-8cf058fa6a72",
   "metadata": {
    "tags": []
   },
   "source": [
    "## PCA Fitting\n",
    "\n",
    "Then by using a PCA fit to the flattened arrays, we calculate the cumulative explained variance. This step is only helpful if you think the number of components in your input is very large and you would be okay to lose a few percent of your input info in trade of faster computation.\n"
   ]
  },
  {
   "cell_type": "code",
   "execution_count": 118,
   "id": "2d092894",
   "metadata": {},
   "outputs": [
    {
     "data": {
      "image/png": "[encoded data removed]",
      "text/plain": [
       "<Figure size 576x432 with 1 Axes>"
      ]
     },
     "metadata": {
      "needs_background": "light"
     },
     "output_type": "display_data"
    }
   ],
   "source": [
    "%matplotlib inline\n",
    "\n",
    "# Load the flattened images and their filenames from the pickle file\n",
    "#with open('test.pickle', 'rb') as f:\n",
    "#    flattenend_images, image_filenames = pickle.load(f)\n",
    "\n",
    "# Perform PCA\n",
    "pca = PCA()\n",
    "pca.fit(flattenend_images)\n",
    "\n",
    "# Calculate cumulative explained variance\n",
    "explained_variance = np.cumsum(pca.explained_variance_ratio_)\n",
    "\n",
    "# Plot the cumulative explained variance\n",
    "plt.figure(figsize=(8,6))\n",
    "plt.plot(range(1, len(explained_variance) + 1), explained_variance)\n",
    "plt.xlabel('Number of Components')\n",
    "plt.ylabel('Cumulative Explained Variance')\n",
    "plt.grid(True)\n",
    "plt.show()"
   ]
  },
  {
   "cell_type": "markdown",
   "id": "3eb921f6",
   "metadata": {},
   "source": [
    "## t-SNE & Dimension Reduction \n",
    "Now that we know how many components we want to use, we can proceed to feed the input into t-SNE. A dask array is created from the flattened images and divided into chunks. Incremental PCA is performed on each chunk of the dask array, and the results are stored in the reduced_images array. Then, t-SNE is performed on the PCA-transformed images. The t-SNE results are saved into a pickle file. But again, if you think you can use all of your components without running to memory issues, you can ignore the PCA part of the code and just feed your input into t-SNE directly."
   ]
  },
  {
   "cell_type": "code",
   "execution_count": 119,
   "id": "e385ed5a",
   "metadata": {},
   "outputs": [
    {
     "name": "stdout",
     "output_type": "stream",
     "text": [
      "[t-SNE] Computing 91 nearest neighbors...\n",
      "[t-SNE] Indexed 11847 samples in 0.001s...\n",
      "[t-SNE] Computed neighbors for 11847 samples in 0.878s...\n",
      "[t-SNE] Computed conditional probabilities for sample 1000 / 11847\n",
      "[t-SNE] Computed conditional probabilities for sample 2000 / 11847\n",
      "[t-SNE] Computed conditional probabilities for sample 3000 / 11847\n",
      "[t-SNE] Computed conditional probabilities for sample 4000 / 11847\n",
      "[t-SNE] Computed conditional probabilities for sample 5000 / 11847\n",
      "[t-SNE] Computed conditional probabilities for sample 6000 / 11847\n",
      "[t-SNE] Computed conditional probabilities for sample 7000 / 11847\n",
      "[t-SNE] Computed conditional probabilities for sample 8000 / 11847\n",
      "[t-SNE] Computed conditional probabilities for sample 9000 / 11847\n",
      "[t-SNE] Computed conditional probabilities for sample 10000 / 11847\n",
      "[t-SNE] Computed conditional probabilities for sample 11000 / 11847\n",
      "[t-SNE] Computed conditional probabilities for sample 11847 / 11847\n",
      "[t-SNE] Mean sigma: 0.000000\n",
      "[t-SNE] KL divergence after 250 iterations with early exaggeration: 100.323868\n",
      "[t-SNE] KL divergence after 1000 iterations: 3.604611\n",
      "t-SNE done! Time elapsed: 79.41501307487488 seconds\n",
      "Number of data points in the plot: 11847\n"
     ]
    }
   ],
   "source": [
    "# Setup the dask client\n",
    "client = Client()\n",
    "\n",
    "# Load the flattened images and their filenames from the pickle file\n",
    "#with open('test.pickle', 'rb') as f:\n",
    "#    flattenend_images, image_filenames = pickle.load(f)\n",
    "\n",
    "# Create a dask array from the flattened images\n",
    "dask_images = da.from_array(flattenend_images, chunks=(20000, -1))\n",
    "\n",
    "# Specify the number of components for PCA\n",
    "n_components_pca = 150\n",
    "ipca = IncrementalPCA(n_components=n_components_pca)\n",
    "# Initialize an empty array to store the PCA-transformed images\n",
    "reduced_images = np.empty((0, n_components_pca))\n",
    "\n",
    "# Loop through chunks of the dask array\n",
    "for chunk in dask_images.to_delayed().flatten():\n",
    "    chunk_np = chunk.compute()\n",
    "\n",
    "    # Perform PCA on the chunk and add it to the reduced_images array\n",
    "    reduced_chunk = ipca.partial_fit(chunk_np).transform(chunk_np)\n",
    "    reduced_images = np.vstack([reduced_images, reduced_chunk])\n",
    "\n",
    "# Perform t-SNE on the PCA-transformed images\n",
    "time_start = time.time()\n",
    "n_components = 2 #3 FOR 3d PLOT\n",
    "verbose = 1\n",
    "perplexity = 30 #30 before\n",
    "n_iter = 1000\n",
    "metric = 'euclidean'\n",
    "tsne_results = TSNE(n_components=n_components,\n",
    "                    verbose=verbose,\n",
    "                    perplexity=perplexity,\n",
    "                    n_iter=n_iter,\n",
    "                    metric=metric).fit_transform(reduced_images)\n",
    "print('t-SNE done! Time elapsed: {} seconds'.format(time.time() - time_start))\n",
    "print(f\"Number of data points in the plot: {len(tsne_results)}\")\n",
    "\n",
    "# Save the t-SNE results and image filenames into a pickle file\n",
    "#with open('test_tsne.pickle', 'wb') as f:\n",
    "#    pickle.dump((tsne_results, image_filenames), f)\n",
    "\n",
    "client.close()"
   ]
  },
  {
   "cell_type": "markdown",
   "id": "570e7323",
   "metadata": {},
   "source": [
    "## Plotting\n",
    "Lastly, t-SNE results and image filenames are loaded from a pickle file and a scatter plot is created. An event handler for click events is set up to display information about the data points if needed, and an event handler for box selection events is set up to print out the detect IDs of the selected points."
   ]
  },
  {
   "cell_type": "code",
   "execution_count": 120,
   "id": "9a3e4261",
   "metadata": {
    "collapsed": true,
    "jupyter": {
     "outputs_hidden": true,
     "source_hidden": true
    },
    "tags": []
   },
   "outputs": [
    {
     "ename": "IndexError",
     "evalue": "index 2 is out of bounds for axis 1 with size 2",
     "output_type": "error",
     "traceback": [
      "\u001b[0;31m---------------------------------------------------------------------------\u001b[0m",
      "\u001b[0;31mIndexError\u001b[0m                                Traceback (most recent call last)",
      "Input \u001b[0;32mIn [120]\u001b[0m, in \u001b[0;36m<cell line: 11>\u001b[0;34m()\u001b[0m\n\u001b[1;32m      6\u001b[0m \u001b[38;5;124;03m'''\u001b[39;00m\n\u001b[1;32m      7\u001b[0m \u001b[38;5;124;03mthis chunk is where the 3d plot works\u001b[39;00m\n\u001b[1;32m      8\u001b[0m \u001b[38;5;124;03m'''\u001b[39;00m\n\u001b[1;32m     10\u001b[0m \u001b[38;5;66;03m# Create a DataFrame from the t-SNE results and image filenames\u001b[39;00m\n\u001b[0;32m---> 11\u001b[0m data \u001b[38;5;241m=\u001b[39m {\u001b[38;5;124m'\u001b[39m\u001b[38;5;124mtsne_0\u001b[39m\u001b[38;5;124m'\u001b[39m: tsne_results[:, \u001b[38;5;241m0\u001b[39m], \u001b[38;5;124m'\u001b[39m\u001b[38;5;124mtsne_1\u001b[39m\u001b[38;5;124m'\u001b[39m: tsne_results[:, \u001b[38;5;241m1\u001b[39m],\u001b[38;5;124m'\u001b[39m\u001b[38;5;124mtsne_2\u001b[39m\u001b[38;5;124m'\u001b[39m: \u001b[43mtsne_results\u001b[49m\u001b[43m[\u001b[49m\u001b[43m:\u001b[49m\u001b[43m,\u001b[49m\u001b[43m \u001b[49m\u001b[38;5;241;43m2\u001b[39;49m\u001b[43m]\u001b[49m, \u001b[38;5;124m'\u001b[39m\u001b[38;5;124mdetectid\u001b[39m\u001b[38;5;124m'\u001b[39m: image_filenames} \u001b[38;5;66;03m#ADD Z COMPONET\u001b[39;00m\n\u001b[1;32m     12\u001b[0m df \u001b[38;5;241m=\u001b[39m pd\u001b[38;5;241m.\u001b[39mDataFrame(data)\n\u001b[1;32m     14\u001b[0m np\u001b[38;5;241m.\u001b[39msavetxt(\u001b[38;5;124m'\u001b[39m\u001b[38;5;124marr1.txt\u001b[39m\u001b[38;5;124m'\u001b[39m,tsne_results[:, \u001b[38;5;241m0\u001b[39m],fmt\u001b[38;5;241m=\u001b[39m\u001b[38;5;124m'\u001b[39m\u001b[38;5;132;01m%f\u001b[39;00m\u001b[38;5;124m'\u001b[39m)\n",
      "\u001b[0;31mIndexError\u001b[0m: index 2 is out of bounds for axis 1 with size 2"
     ]
    }
   ],
   "source": [
    "# Load the t-SNE results and image filenames from the pickle file\n",
    "#with open('test_tsne.pickle', 'rb') as f:\n",
    "#    tsne_results, image_filenames = pickle.load(f)\n",
    "\n",
    "\n",
    "'''\n",
    "this chunk is where the 3d plot works\n",
    "'''\n",
    "\n",
    "# Create a DataFrame from the t-SNE results and image filenames\n",
    "data = {'tsne_0': tsne_results[:, 0], 'tsne_1': tsne_results[:, 1],'tsne_2': tsne_results[:, 2], 'detectid': image_filenames} #ADD Z COMPONET\n",
    "df = pd.DataFrame(data)\n",
    "\n",
    "np.savetxt('arr1.txt',tsne_results[:, 0],fmt='%f')\n",
    "np.savetxt('arr2.txt',tsne_results[:, 1],fmt='%f')\n",
    "np.savetxt('arr3.txt',tsne_results[:, 2],fmt='%f')\n",
    "np.savetxt('arr4.txt',image_filenames,fmt='%s')\n",
    "\n",
    "# Convert the filenames to detectid values\n",
    "detectid_values = [int(filename.split('/')[-1].split('.')[0]) for filename in image_filenames]\n",
    "df['detectid_values'] = detectid_values\n",
    "\n",
    "# Create a scatter plot of the t-SNE results\n",
    "fig = px.scatter_3d(df, x=\"tsne_0\", y=\"tsne_1\",z=\"tsne_2\")\n",
    "fig.update_traces(\n",
    "    marker=dict(size=1.5, color='darkolivegreen'),\n",
    "    hovertemplate=\"<b>Detect ID:</b> %{customdata}<br>\",\n",
    ")\n",
    "output_widget = widgets.Output(layout=widgets.Layout(height='1000px', width=\"100%\",length='100%'))\n",
    "fig.update_layout(width=700, height=700)#, length=700)\n",
    "\n",
    "# Define click and selection event handlers\n",
    "def on_click(trace, points, state):\n",
    "    point_index = points.point_inds[0]\n",
    "    custom_data = trace.customdata[point_index]\n",
    "    image_id = custom_data\n",
    "    with output_widget:\n",
    "        clear_output()\n",
    "        display(EW(detectlist=[int(image_id)]))\n",
    "def on_box_selection(trace, points, selector):\n",
    "    selected_points = points.point_inds\n",
    "    selected_data = trace.customdata[selected_points]\n",
    "    detect_ids = [int(customdata) for customdata in selected_data]\n",
    "    print(\"Selected detect IDs:\", detect_ids)\n",
    "\n",
    "# Create a FigureWidget from the figure and attach the event handlers\n",
    "fig_widget = go.FigureWidget(fig)\n",
    "fig_widget.data[0].on_click(on_click)\n",
    "fig_widget.data[0].on_selection(on_box_selection)\n",
    "fig_widget.data[0].customdata = df[\"detectid_values\"]\n",
    "\n",
    "# Display the FigureWidget and the output widget\n",
    "display(fig_widget)\n",
    "display(output_widget)\n"
   ]
  },
  {
   "cell_type": "code",
   "execution_count": 121,
   "id": "00b5e26f-da70-4068-b6ab-c73f926deec1",
   "metadata": {
    "tags": []
   },
   "outputs": [
    {
     "data": {
      "application/vnd.jupyter.widget-view+json": {
       "model_id": "b3f8eeec28354a9689489a9a8c919133",
       "version_major": 2,
       "version_minor": 0
      },
      "text/plain": [
       "FigureWidget({\n",
       "    'data': [{'customdata': array([8150330201939022848, 8149696802058523648, 8149962202179523584, ...,\n",
       "                                            3013841048,          3013841802,          3013842039]),\n",
       "              'hovertemplate': '<b>Detect ID:</b> %{customdata}<br>',\n",
       "              'marker': {'color': 'pink', 'opacity': 0.8, 'size': 5.5},\n",
       "              'mode': 'markers',\n",
       "              'type': 'scatter',\n",
       "              'uid': 'eb5938e4-74b4-454a-af16-04a87d276181',\n",
       "              'x': array([ 3.28125  , -4.207888 , -0.5772669, ..., -5.476279 , -9.538386 ,\n",
       "                          -2.1732676], dtype=float32),\n",
       "              'y': array([ 26.261574 ,  -3.361984 , -30.6672   , ...,  20.987333 ,  -4.2111382,\n",
       "                           -9.197023 ], dtype=float32)},\n",
       "             {'customdata': array([8150330201939022848, 8149696802058523648, 8149962202179523584,\n",
       "                                   8149987401818121216, 8149758802429422592, 8150156702483721216,\n",
       "                                   8150155801976723456, 8150486602059722752, 8150042002258022400,\n",
       "                                   8150271001809323008, 8150177901571822592, 8150066202000622592,\n",
       "                                   8149816902460521472, 8149771802349321216, 8149709602070921216,\n",
       "                                   8150442702102022144, 8149635402620422144, 8149802102189422592,\n",
       "                                   8149723402583323648, 8150492902319522816, 8149846702086022144,\n",
       "                                   8150016802650822656, 8150070901884121088, 8149615901985121280,\n",
       "                                   8149613301989722112, 8150224501806422016, 8150089601801321472,\n",
       "                                   8150273502175222784, 8149725202500321280, 8150132901884023808,\n",
       "                                   8149983902052221952, 8149984002052221952, 8149951802609222656,\n",
       "                                   8150188402219622400, 8149935301923222528, 8149899101982622720,\n",
       "                                   8150126502637522944, 8149816402284422144, 8149749601982422016,\n",
       "                                   8149796502335123456, 8149900002060521472, 8149753902034124800,\n",
       "                                   8149658002489422848, 8149933702597922816, 8149894302301821952,\n",
       "                                   8149942602446023680, 8150360502419523584, 8150353802426321920,\n",
       "                                   8150147001567322112, 8150189602205921280, 8150061301720022016,\n",
       "                                   8150609702043022336, 8150230401713922048, 8149672402016923648,\n",
       "                                   8149612902146622464, 8149654202374321152, 8149973002053722112,\n",
       "                                   8150569602390723584, 8150119301906924544, 8149548002832722944,\n",
       "                                   8149827701929122816, 8150068202342422528, 8149681602385721344,\n",
       "                                   8149687702556721152, 8149771202138822656, 8150735702162022400,\n",
       "                                   8150534302465523712, 8150419802114722816, 8150442802500722688,\n",
       "                                   8149894202042822656, 8149765102282621952, 8150387502251921408,\n",
       "                                   8149701802149922816, 8149914002640222208, 8150223602042222592,\n",
       "                                   8149704202409422848, 8149684301814921216, 8149980001822422016,\n",
       "                                   8149696902099621888, 8150419702362422272, 8150075701771921408,\n",
       "                                   8149909302479622144, 8149874102198222848, 8150279102234121216,\n",
       "                                   8150113601917921280, 8149788802199122944, 8149642202418022400,\n",
       "                                   8150077502434323456, 8150155602521022464, 8149722501949622272,\n",
       "                                   8149596502368622592, 8150186801970523136, 8150055702069122048,\n",
       "                                   8150480202356723712, 8149697302581022720, 8150201801735521280,\n",
       "                                   8149794302292221952, 8150459902445821952, 8150593602634222592,\n",
       "                                   8149717702366422016, 8149561702782622720, 8149899201982622720,\n",
       "                                   8150271302179322880, 8149439102703921152, 8149871102218223616,\n",
       "                                   8149928402193223680, 8149845302151822336, 8149841302141723648,\n",
       "                                   8150482501953021952, 8150162801889021952, 8149873902228622336,\n",
       "                                   8150263702191022080, 8150639902087421952, 8149958902566723584,\n",
       "                                   8150199902564722688, 8150133902478722048, 8149712301910622208,\n",
       "                                   8150156702562321408, 8149935901893222400, 8149840102278222848,\n",
       "                                   8150479002506523648, 8149624902451822592, 8149971402618121216,\n",
       "                                   8149630302279222272, 8149896002612622336]),\n",
       "              'hovertemplate': '<b>Detect ID:</b> %{customdata}<br>',\n",
       "              'marker': {'color': 'darkblue', 'size': 7.5},\n",
       "              'mode': 'markers',\n",
       "              'type': 'scatter',\n",
       "              'uid': '77d68aad-81dc-4992-acd0-70e8cd32eefb',\n",
       "              'x': array([ 20.04543  ,  24.606459 ,   9.0198765,  35.84784  ,   8.525719 ,\n",
       "                            7.9482193,  -4.0402656,  35.84784  ,  20.816122 ,  -9.6104965,\n",
       "                           35.84784  ,  35.84784  ,   9.876832 ,  35.34001  ,   8.883976 ,\n",
       "                           35.84784  ,   7.2535663,  35.84784  ,  35.84784  ,  35.84784  ,\n",
       "                           35.84784  ,  25.001799 ,  22.93167  ,  35.84784  ,  35.84784  ,\n",
       "                            8.086668 ,   7.2251997,   9.336788 ,   8.571267 ,   8.4723215,\n",
       "                           34.991417 ,  34.990685 ,  35.84784  ,  37.50043  , -10.135594 ,\n",
       "                          -15.097166 ,  35.84784  ,  13.36962  ,  28.334959 ,  10.631572 ,\n",
       "                            7.976916 ,   8.615783 ,   8.674836 ,  36.230938 ,  35.84784  ,\n",
       "                           32.036198 ,  40.823807 ,   8.226686 ,   8.801788 ,  -7.6234717,\n",
       "                           10.557386 ,  35.84784  ,  35.84784  ,   7.6493917,  40.89187  ,\n",
       "                           35.84784  ,  -9.772698 ,  34.698914 ,   8.979408 ,   9.214516 ,\n",
       "                           35.67254  ,   8.86793  ,  13.432773 , -11.227217 ,  10.014854 ,\n",
       "                           35.84784  ,  35.94204  ,   7.596333 ,  36.102787 ,  36.11605  ,\n",
       "                           -3.9982002,  38.388206 ,  -4.0089703,  35.84784  ,  28.236504 ,\n",
       "                           35.84784  ,   9.856662 ,  30.334347 ,  38.796436 ,  35.84784  ,\n",
       "                           17.528313 ,  31.622131 ,  35.84784  ,  35.84784  ,  35.84784  ,\n",
       "                          -12.443703 ,  35.84784  ,  12.095767 ,  35.67502  ,  36.11605  ,\n",
       "                           35.84784  ,  34.980907 ,  31.307156 ,   9.117146 ,  35.251205 ,\n",
       "                            9.118632 ,  35.84784  ,   8.997325 , -11.215039 ,  35.50039  ,\n",
       "                           26.585112 , -15.095805 ,  -6.246337 ,  12.667797 ,   8.662285 ,\n",
       "                           33.606754 ,  20.871885 ,  10.846052 ,   9.103767 ,  37.582413 ,\n",
       "                           16.540064 ,  35.84784  ,   8.239771 ,   8.954388 ,  29.343725 ,\n",
       "                           10.386918 ,  35.84784  ,   7.9733605,  10.797544 ,  35.13874  ,\n",
       "                           35.84784  ,  35.84784  ,   3.320142 ,  35.84784  ,   8.747278 ],\n",
       "                         dtype=float32),\n",
       "              'y': array([ 36.602345  , -50.95344   ,  41.073006  ,  -5.642915  ,  41.309944  ,\n",
       "                           42.36217   , -43.67104   ,  -5.642915  , -54.202675  , -36.698963  ,\n",
       "                           -5.642915  ,  -5.642915  ,  38.88579   ,  -5.3232436 ,  41.26223   ,\n",
       "                           -5.642915  ,  41.33796   ,  -5.642915  ,  -5.642915  ,  -5.642915  ,\n",
       "                           -5.642915  , -42.714573  , -46.201916  ,  -5.642915  ,  -5.642915  ,\n",
       "                           41.66029   ,  41.68291   ,  39.57507   ,  41.281704  ,  40.773674  ,\n",
       "                           -4.104177  ,  -4.104164  ,  -5.642915  , -35.18192   , -29.238104  ,\n",
       "                            5.585306  ,  -5.642915  ,   9.967917  , -42.8293    ,  40.534294  ,\n",
       "                           42.02438   ,  41.266933  ,  40.82888   ,  -5.464087  ,  -5.642915  ,\n",
       "                          -36.80579   , -25.725918  ,  42.10217   ,  40.327976  , -37.66863   ,\n",
       "                           27.449787  ,  -5.642915  ,  -5.642915  ,  40.755627  , -20.786737  ,\n",
       "                           -5.642915  , -33.65731   , -41.167885  ,  41.45692   ,  40.356464  ,\n",
       "                           -5.9402623 ,  41.18299   , -55.313496  , -25.01175   , -59.011982  ,\n",
       "                           -5.642915  ,  -4.956139  ,  42.13965   ,  -5.2019787 ,  -5.798567  ,\n",
       "                          -43.44348   , -28.502594  , -43.61752   ,  -5.642915  , -38.7855    ,\n",
       "                           -5.642915  ,  30.729702  , -46.05392   , -31.911325  ,  -5.642915  ,\n",
       "                          -52.181286  , -32.00933   ,  -5.642915  ,  -5.642915  ,  -5.642915  ,\n",
       "                           -0.26718348,  -5.642915  ,  -5.6128483 ,  -5.9417157 ,  -5.7985616 ,\n",
       "                           -5.642915  , -31.889168  , -41.235325  ,  40.5423    ,  -5.5547442 ,\n",
       "                           40.00539   ,  -5.642915  ,  41.563076  , -27.54024   , -25.444529  ,\n",
       "                          -47.35958   ,   5.5863314 , -40.3597    ,  16.799328  ,  41.520912  ,\n",
       "                          -28.338999  , -49.559776  ,  36.993565  ,  40.728355  , -22.666489  ,\n",
       "                          -57.247757  ,  -5.642915  ,  41.69688   ,  41.390144  , -34.92363   ,\n",
       "                           24.61395   ,  -5.642915  ,  41.753216  ,  38.9775    , -37.399815  ,\n",
       "                           -5.642915  ,  -5.642915  , -61.059193  ,  -5.642915  ,  41.253826  ],\n",
       "                         dtype=float32)}],\n",
       "    'layout': {'height': 700, 'template': '...', 'width': 700}\n",
       "})"
      ]
     },
     "metadata": {},
     "output_type": "display_data"
    },
    {
     "data": {
      "application/vnd.jupyter.widget-view+json": {
       "model_id": "381ea5e65c574943b92e7be2a82c550b",
       "version_major": 2,
       "version_minor": 0
      },
      "text/plain": [
       "Output(layout=Layout(height='1000px', width='100%'))"
      ]
     },
     "metadata": {},
     "output_type": "display_data"
    }
   ],
   "source": [
    "data = {'tsne_0': tsne_results[:, 0], 'tsne_1': tsne_results[:, 1], 'detectid': image_filenames} #ADD Z COMPONET\n",
    "df = pd.DataFrame(data)\n",
    "\n",
    "np.savetxt('arr1.txt',tsne_results[:, 0],fmt='%f')\n",
    "np.savetxt('arr2.txt',tsne_results[:, 1],fmt='%f')\n",
    "#np.savetxt('arr3.txt',tsne_results[:, 2],fmt='%f')\n",
    "np.savetxt('arr3.txt',image_filenames,fmt='%s')\n",
    "\n",
    "# Convert the filenames to detectid values\n",
    "detectid_values = [int(filename.split('/')[-1].split('.')[0]) for filename in image_filenames]\n",
    "df['detectid_values'] = detectid_values\n",
    "\n",
    "# Create a scatter plot of the t-SNE results\n",
    "#fig = px.scatter(df, x=\"tsne_0\", y=\"tsne_1\")#,z=\"tsne_2\")\n",
    "\n",
    "df1 = df[df['detectid_values'] > 4000000000]\n",
    "df2 = df[df['detectid_values'] <= 4000000000]\n",
    "fig = px.scatter(df, x=\"tsne_0\", y=\"tsne_1\")\n",
    "trace1 = go.Scatter(x=df1['tsne_0'], \n",
    "                          y=df1['tsne_1'],\n",
    "                          mode='markers',\n",
    "                          marker=dict(size=7.5, color='darkblue'),\n",
    "                          customdata=df1['detectid_values'],\n",
    "                          hovertemplate=\"<b>Detect ID:</b> %{customdata}<br>\")\n",
    "trace2 = go.Scatter(x=df2['tsne_0'], \n",
    "                             y=df2['tsne_1'],\n",
    "                             mode='markers',\n",
    "                             marker=dict(size=5.5, color='pink',opacity=0.8),\n",
    "                             customdata=df2['detectid_values'],\n",
    "                             hovertemplate=\"<b>Detect ID:</b> %{customdata}<br>\")\n",
    "fig = go.Figure([trace2, trace1])\n",
    "\n",
    "output_widget = widgets.Output(layout=widgets.Layout(height='1000px', width=\"100%\"))#,length='100%'))\n",
    "fig.update_layout(width=700, height=700)#, length=700)\n",
    "\n",
    "# Define click and selection event handlers\n",
    "def on_click(trace, points, state):\n",
    "    point_index = points.point_inds[0]\n",
    "    custom_data = trace.customdata[point_index]\n",
    "    image_id = custom_data\n",
    "    with output_widget:\n",
    "        clear_output()\n",
    "        display(EW(detectlist=[int(image_id)]))#,img_dir='/home/jovyan/shared/hdr4/broad/topten/revised_20230703/all_pngs'))\n",
    "def on_box_selection(trace, points, selector):\n",
    "    selected_points = points.point_inds\n",
    "    selected_data = trace.customdata[selected_points]\n",
    "    detect_ids = [int(customdata) for customdata in selected_data]\n",
    "    print(\"Selected detect IDs:\", detect_ids)\n",
    "\n",
    "# Create a FigureWidget from the figure and attach the event handlers\n",
    "fig_widget = go.FigureWidget(fig)\n",
    "fig_widget.data[0].on_click(on_click)\n",
    "fig_widget.data[0].on_selection(on_box_selection)\n",
    "fig_widget.data[0].customdata = df[\"detectid_values\"]\n",
    "\n",
    "# Display the FigureWidget and the output widget\n",
    "display(fig_widget)\n",
    "display(output_widget)\n"
   ]
  },
  {
   "cell_type": "markdown",
   "id": "c8817969",
   "metadata": {},
   "source": [
    "#### please don't hesitate to message me on Slack for any questions @Mahan Mirza Khanlari"
   ]
  },
  {
   "cell_type": "code",
   "execution_count": null,
   "id": "e340b6a6-b19e-4eac-9e30-b3e54dd25c5e",
   "metadata": {},
   "outputs": [],
   "source": [
    "data = {'tsne_0': tsne_results[:, 0], 'tsne_1': tsne_results[:, 1], 'detectid': image_filenames}"
   ]
  },
  {
   "cell_type": "code",
   "execution_count": 15,
   "id": "1ce3189d-1dc9-4be1-a58a-c4a1dd49da57",
   "metadata": {},
   "outputs": [
    {
     "data": {
      "text/plain": [
       "14"
      ]
     },
     "execution_count": 15,
     "metadata": {},
     "output_type": "execute_result"
    }
   ],
   "source": [
    "len(image_filenames[3000])"
   ]
  },
  {
   "cell_type": "code",
   "execution_count": 51,
   "id": "f0f8e3a0-1a1c-4fbb-ae93-3a41dd6efebf",
   "metadata": {},
   "outputs": [
    {
     "data": {
      "text/plain": [
       "True"
      ]
     },
     "execution_count": 51,
     "metadata": {},
     "output_type": "execute_result"
    }
   ],
   "source": [
    "(df['detectid_values'][1]) > 1000000000000000000"
   ]
  },
  {
   "cell_type": "code",
   "execution_count": 41,
   "id": "e56ea695-3862-46c8-8745-1c59944a2ebf",
   "metadata": {},
   "outputs": [
    {
     "data": {
      "text/plain": [
       "14702"
      ]
     },
     "execution_count": 41,
     "metadata": {},
     "output_type": "execute_result"
    }
   ],
   "source": [
    "len(image_filenames)"
   ]
  },
  {
   "cell_type": "code",
   "execution_count": 54,
   "id": "440ce54d-8356-4f22-bda9-8491eb830a1a",
   "metadata": {},
   "outputs": [
    {
     "data": {
      "text/plain": [
       "352781705961972.3"
      ]
     },
     "execution_count": 54,
     "metadata": {},
     "output_type": "execute_result"
    }
   ],
   "source": [
    "np.sum(df['detectid_values']) / len(df['detectid_values'])"
   ]
  },
  {
   "cell_type": "code",
   "execution_count": 81,
   "id": "9bb3e498-ff60-44fc-bc21-e9ff03764243",
   "metadata": {},
   "outputs": [
    {
     "data": {
      "text/plain": [
       "dtype('int64')"
      ]
     },
     "execution_count": 81,
     "metadata": {},
     "output_type": "execute_result"
    }
   ],
   "source": [
    "df['detectid_values'].dtype"
   ]
  },
  {
   "cell_type": "code",
   "execution_count": 122,
   "id": "fa54c0f0-24d2-4008-a560-4dcd434609c6",
   "metadata": {},
   "outputs": [
    {
     "name": "stdout",
     "output_type": "stream",
     "text": [
      "/home/jovyan/work\n"
     ]
    }
   ],
   "source": [
    "!pwd"
   ]
  },
  {
   "cell_type": "code",
   "execution_count": null,
   "id": "069b68f1-0164-4a3e-8383-fd277ae68a06",
   "metadata": {},
   "outputs": [],
   "source": []
  }
 ],
 "metadata": {
  "kernelspec": {
   "display_name": "Python 3 (ipykernel)",
   "language": "python",
   "name": "python3"
  },
  "language_info": {
   "codemirror_mode": {
    "name": "ipython",
    "version": 3
   },
   "file_extension": ".py",
   "mimetype": "text/x-python",
   "name": "python",
   "nbconvert_exporter": "python",
   "pygments_lexer": "ipython3",
   "version": "3.10.5"
  }
 },
 "nbformat": 4,
 "nbformat_minor": 5
}
